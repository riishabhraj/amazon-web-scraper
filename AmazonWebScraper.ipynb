{
 "cells": [
  {
   "cell_type": "code",
   "execution_count": 1,
   "id": "06862508-a91b-4d0f-92d6-6fb5b5e8ba10",
   "metadata": {},
   "outputs": [],
   "source": [
    "from bs4 import BeautifulSoup\n",
    "import requests\n",
    "import time\n",
    "import datetime\n",
    "\n",
    "import smtplib"
   ]
  },
  {
   "cell_type": "code",
   "execution_count": 2,
   "id": "9ff9bd58-0302-4c91-b494-053d6695753e",
   "metadata": {},
   "outputs": [],
   "source": [
    "URL = 'https://www.amazon.in/CNMN-Polyester-Jacket-Breathable-Standard/dp/B0CQYW2F7V/ref=sr_1_5?crid=2RT648KZU9LZB&dib=eyJ2IjoiMSJ9.7j99IFz4QAspmWWA5FubCXQAS7GiCV2YG7JtNnWDwxgHwua7xNteoN_LVMkP_2wcg2GttInFM8dRU_u7zuhS8bYLuFIHmud7TtN76_vjetyOl0wro6HKafiux35gMHstrApkIXFMs2IBog1sjFwF2v2BW7ONV311X9on7r6PMAsWkJor-JpUhiqKec0vGYpKDd6-rkAn9dELJjKcw8G1-EKyelXSGaGZKy_iniAdUxQsjVcwAtjAqxAc7N2rED9uhVRTggw5wRJvnZScN3L8_PvPFmBp26H4b3ulaZFFhu0.ZM9O2gzzuxwxh8ZlonOJMVOTizpMIAzb4_eSaZ8akZk&dib_tag=se&keywords=jacket+for+men&qid=1719311615&sprefix=jacket%2Caps%2C243&sr=8-5'\n",
    "\n",
    "headers = {\"User-Agent\": \"Mozilla/5.0 (Windows NT 10.0; Win64; x64) AppleWebKit/537.36 (KHTML, like Gecko) Chrome/126.0.0.0 Safari/537.36\", \"Accept-Encoding\":\"gzip, deflate\", \"Accept\":\"text/html,application/xhtml+xml,application/xml;q=0.9,*/*;q=0.8\", \"DNT\":\"1\",\"Connection\":\"close\", \"Upgrade-Insecure-Requests\":\"1\"}\n",
    "\n",
    "page = requests.get(URL, headers=headers)\n",
    "\n",
    "soup1 = BeautifulSoup(page.content, \"html.parser\")\n",
    "\n",
    "soup2 = BeautifulSoup(soup1.prettify(), \"html.parser\")\n",
    "\n",
    "title = soup2.find(id='productTitle').get_text()\n",
    "\n",
    "price = soup2.find(class_='a-price-whole').get_text()\n",
    "\n",
    "# print(title)\n",
    "# print(price)\n"
   ]
  },
  {
   "cell_type": "code",
   "execution_count": 3,
   "id": "5fbd94c3-3558-44ea-b85f-1fc18f526f91",
   "metadata": {},
   "outputs": [],
   "source": [
    "# Clean up the data a little bit\n",
    "\n",
    "price = price.strip()\n",
    "title = title.strip()\n",
    "\n",
    "# print(title)\n",
    "# print(price)"
   ]
  },
  {
   "cell_type": "code",
   "execution_count": 4,
   "id": "47b2fbf2-329c-4fcf-914b-68cd421fa855",
   "metadata": {},
   "outputs": [],
   "source": [
    "# Create a Timestamp for your output to track when data was collected\n",
    "\n",
    "import datetime\n",
    "\n",
    "today = datetime.date.today()\n",
    "\n",
    "# print(today)"
   ]
  },
  {
   "cell_type": "code",
   "execution_count": 7,
   "id": "f8b65c1b-6bff-421c-b21e-6285021f0d6f",
   "metadata": {},
   "outputs": [],
   "source": [
    "# Create CSV and write headers and data into the file\n",
    "\n",
    "import csv \n",
    "\n",
    "header = ['Title', 'Price', 'Date']\n",
    "data = [title, price, today]\n",
    "\n",
    "\n",
    "with open('AmazonWebScraperDataset.csv', 'w', newline='', encoding='UTF8') as f:\n",
    "    writer = csv.writer(f)\n",
    "    writer.writerow(header)\n",
    "    writer.writerow(data)"
   ]
  },
  {
   "cell_type": "code",
   "execution_count": 8,
   "id": "792d5864-0f3c-41e7-a57a-018bb5c2145a",
   "metadata": {},
   "outputs": [],
   "source": [
    "\n",
    "import pandas as pd\n",
    "\n",
    "df = pd.read_csv(r\"C:\\Users\\risha\\OneDrive\\Desktop\\Jupyter\\AmazonWebScraperDataset.csv\")\n",
    "\n",
    "# print(df)"
   ]
  },
  {
   "cell_type": "code",
   "execution_count": 9,
   "id": "07c5f8c0-375d-48e0-9452-8b08980d93f7",
   "metadata": {},
   "outputs": [],
   "source": [
    "\n",
    "#Now we are appending data to the csv\n",
    "\n",
    "with open('AmazonWebScraperDataset.csv', 'a+', newline='', encoding='UTF8') as f:\n",
    "    writer = csv.writer(f)\n",
    "    writer.writerow(data)\n"
   ]
  },
  {
   "cell_type": "code",
   "execution_count": 13,
   "id": "7abcb623-4aea-4025-b008-c46bc3f5cae2",
   "metadata": {},
   "outputs": [],
   "source": [
    "#Combine all of the above code into one function\n",
    "\n",
    "\n",
    "def check_price():\n",
    "    URL = 'https://www.amazon.in/CNMN-Polyester-Jacket-Breathable-Standard/dp/B0CQYW2F7V/ref=sr_1_5?crid=2RT648KZU9LZB&dib=eyJ2IjoiMSJ9.7j99IFz4QAspmWWA5FubCXQAS7GiCV2YG7JtNnWDwxgHwua7xNteoN_LVMkP_2wcg2GttInFM8dRU_u7zuhS8bYLuFIHmud7TtN76_vjetyOl0wro6HKafiux35gMHstrApkIXFMs2IBog1sjFwF2v2BW7ONV311X9on7r6PMAsWkJor-JpUhiqKec0vGYpKDd6-rkAn9dELJjKcw8G1-EKyelXSGaGZKy_iniAdUxQsjVcwAtjAqxAc7N2rED9uhVRTggw5wRJvnZScN3L8_PvPFmBp26H4b3ulaZFFhu0.ZM9O2gzzuxwxh8ZlonOJMVOTizpMIAzb4_eSaZ8akZk&dib_tag=se&keywords=jacket+for+men&qid=1719311615&sprefix=jacket%2Caps%2C243&sr=8-5'\n",
    "\n",
    "    headers = {\"User-Agent\": \"Mozilla/5.0 (Windows NT 10.0; Win64; x64) AppleWebKit/537.36 (KHTML, like Gecko) Chrome/126.0.0.0 Safari/537.36\", \"Accept-Encoding\":\"gzip, deflate\", \"Accept\":\"text/html,application/xhtml+xml,application/xml;q=0.9,*/*;q=0.8\", \"DNT\":\"1\",\"Connection\":\"close\", \"Upgrade-Insecure-Requests\":\"1\"}\n",
    "    \n",
    "    page = requests.get(URL, headers=headers)\n",
    "    \n",
    "    soup1 = BeautifulSoup(page.content, \"html.parser\")\n",
    "    \n",
    "    soup2 = BeautifulSoup(soup1.prettify(), \"html.parser\")\n",
    "    \n",
    "    title = soup2.find(id='productTitle').get_text()\n",
    "    \n",
    "    price = soup2.find(class_='a-price-whole').get_text()\n",
    "\n",
    "    price = price.strip()\n",
    "    title = title.strip()\n",
    "\n",
    "    import datetime\n",
    "\n",
    "    today = datetime.date.today()\n",
    "    \n",
    "    import csv \n",
    "\n",
    "    header = ['Title', 'Price', 'Date']\n",
    "    data = [title, price, today]\n",
    "\n",
    "    with open('AmazonWebScraperDataset.csv', 'a+', newline='', encoding='UTF8') as f:\n",
    "        writer = csv.writer(f)\n",
    "        writer.writerow(data)\n",
    "\n",
    "    if(int(price) < 400):\n",
    "        send_mail()"
   ]
  },
  {
   "cell_type": "code",
   "execution_count": null,
   "id": "ba88d4fe-5cdc-4415-b61e-1a946379f829",
   "metadata": {},
   "outputs": [],
   "source": [
    "# Runs check_price after a set time and inputs data into your CSV\n",
    "\n",
    "while(True):\n",
    "    check_price()\n",
    "    time.sleep(86400)"
   ]
  },
  {
   "cell_type": "code",
   "execution_count": null,
   "id": "7c9ff1a3-55df-465f-b242-d5f720f33336",
   "metadata": {},
   "outputs": [],
   "source": [
    "import pandas as pd\n",
    "\n",
    "df = pd.read_csv(r\"C:\\Users\\risha\\OneDrive\\Desktop\\Jupyter\\AmazonWebScraperDataset.csv\")\n",
    "\n",
    "print(df)"
   ]
  },
  {
   "cell_type": "code",
   "execution_count": null,
   "id": "51b43acd-470c-41f5-a7cd-472ad18f3634",
   "metadata": {},
   "outputs": [],
   "source": [
    "import smtplib\n",
    "from email.mime.text import MIMEText\n",
    "from email.mime.multipart import MIMEMultipart\n",
    "from dotenv import load_dotenv\n",
    "import os\n",
    "\n",
    "# Load environment variables from .env file\n",
    "load_dotenv()\n",
    "\n",
    "def send_mail():\n",
    "    # Retrieve email and password from environment variables\n",
    "    from_addr = os.getenv('EMAIL_USER')\n",
    "    password = os.getenv('EMAIL_PASSWORD')\n",
    "    to_addr = 'a9099810709@gmail.com'  # Replace with the recipient's email address\n",
    "\n",
    "    if not from_addr or not password:\n",
    "        print(\"Error: EMAIL_USER and EMAIL_PASSWORD environment variables are not set.\")\n",
    "        return\n",
    "\n",
    "    # Define the subject and body of the email\n",
    "    subject = \"The Jacket you want is below ₹400! Now is your chance to buy!\"\n",
    "    body = (\n",
    "        \"Rishabh, This is the moment we have been waiting for. Now is your chance to pick up \"\n",
    "        \"the jacket of your dreams. Don't mess it up! Link here: \"\n",
    "        \"https://www.amazon.in/CNMN-Polyester-Jacket-Breathable-Standard/dp/B0CQYW2F7V/ref=sr_1_5?crid=2RT648KZU9LZB&dib=eyJ2IjoiMSJ9.7j99IFz4QAspmWWA5FubCXQAS7GiCV2YG7JtNnWDwxgHwua7xNteoN_LVMkP_2wcg2GttInFM8dRU_u7zuhS8bYLuFIHmud7TtN76_vjetyOl0wro6HKafiux35gMHstrApkIXFMs2IBog1sjFwF2v2BW7ONV311X9on7r6PMAsWkJor-JpUhiqKec0vGYpKDd6-rkAn9dELJjKcw8G1-EKyelXSGaGZKy_iniAdUxQsjVcwAtjAqxAc7N2rED9uhVRTggw5wRJvnZScN3L8_PvPFmBp26H4b3ulaZFFhu0.ZM9O2gzzuxwxh8ZlonOJMVOTizpMIAzb4_eSaZ8akZk&dib_tag=se&keywords=jacket+for+men&qid=1719311615&sprefix=jacket%2Caps%2C243&sr=8-5\"\n",
    "    )\n",
    "\n",
    "    # Create the email message\n",
    "    msg = MIMEMultipart()\n",
    "    msg['From'] = from_addr\n",
    "    msg['To'] = to_addr\n",
    "    msg['Subject'] = subject\n",
    "\n",
    "    # Attach the body with the msg instance\n",
    "    msg.attach(MIMEText(body, 'plain'))\n",
    "\n",
    "    # Set up the server and login details\n",
    "    smtp_server = 'smtp.gmail.com'\n",
    "    smtp_port = 465  # Use SSL on port 465\n",
    "\n",
    "    server = None  # Initialize server variable\n",
    "    try:\n",
    "        # Create the server connection and send the email\n",
    "        server = smtplib.SMTP_SSL(smtp_server, smtp_port)  # Use SMTP_SSL for port 465\n",
    "        server.login(from_addr, password)\n",
    "        server.sendmail(from_addr, to_addr, msg.as_string())\n",
    "        print(\"Email sent successfully\")\n",
    "    except Exception as e:\n",
    "        print(f\"Failed to send email: {e}\")\n",
    "    finally:\n",
    "        if server:\n",
    "            server.quit()\n",
    "\n",
    "# Call the function to send the email\n",
    "# send_mail()"
   ]
  },
  {
   "cell_type": "code",
   "execution_count": null,
   "id": "479b6690-6cfe-4401-9b1d-8e00359a92e9",
   "metadata": {},
   "outputs": [],
   "source": []
  },
  {
   "cell_type": "code",
   "execution_count": null,
   "id": "b7d0ad38-32da-43db-afc6-0c08622dd97e",
   "metadata": {},
   "outputs": [],
   "source": []
  },
  {
   "cell_type": "code",
   "execution_count": null,
   "id": "261d87a4-23a0-4e55-90af-77b3e0d15ba5",
   "metadata": {},
   "outputs": [],
   "source": []
  },
  {
   "cell_type": "code",
   "execution_count": null,
   "id": "1f52e8d6-d9f2-4b57-873e-d02b10e574d4",
   "metadata": {},
   "outputs": [],
   "source": []
  },
  {
   "cell_type": "code",
   "execution_count": null,
   "id": "d653fc93-e3f4-4097-877d-6a310e31303e",
   "metadata": {},
   "outputs": [],
   "source": []
  },
  {
   "cell_type": "code",
   "execution_count": null,
   "id": "6bc10406-9422-4d12-9f64-35f4dfa689de",
   "metadata": {},
   "outputs": [],
   "source": []
  },
  {
   "cell_type": "code",
   "execution_count": null,
   "id": "b83ce4aa-b4c5-43c9-aae2-0c0d45037b4d",
   "metadata": {},
   "outputs": [],
   "source": []
  },
  {
   "cell_type": "code",
   "execution_count": null,
   "id": "4fb23fad-7a35-4313-9bee-24bccc8e485b",
   "metadata": {},
   "outputs": [],
   "source": []
  },
  {
   "cell_type": "code",
   "execution_count": null,
   "id": "562b7f96-db06-405e-bf30-215542f67703",
   "metadata": {},
   "outputs": [],
   "source": []
  }
 ],
 "metadata": {
  "kernelspec": {
   "display_name": "Python 3 (ipykernel)",
   "language": "python",
   "name": "python3"
  },
  "language_info": {
   "codemirror_mode": {
    "name": "ipython",
    "version": 3
   },
   "file_extension": ".py",
   "mimetype": "text/x-python",
   "name": "python",
   "nbconvert_exporter": "python",
   "pygments_lexer": "ipython3",
   "version": "3.10.8"
  }
 },
 "nbformat": 4,
 "nbformat_minor": 5
}
